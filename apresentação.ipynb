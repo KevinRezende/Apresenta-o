{
  "cells": [
    {
      "cell_type": "code",
      "execution_count": null,
      "metadata": {
        "id": "DBbx1evuq-53"
      },
      "outputs": [],
      "source": [
        "dados = []\n",
        "while True:\n",
        "    resposta = int(input('''\n",
        "    Bem-vindo ao questionario fisico basico, \n",
        "    vamos fazer perguntas basicas sobre você e caso ja tenha feito, \n",
        "    muito obrigado por cooperar. \n",
        "1 - Começar o questionario\n",
        "2 - Para ver seus dados\n",
        "3 - Para sair do questionario '''))\n",
        "    if resposta == 1:\n",
        "        while len(dados)<4:\n",
        "            nome = input('Qual seu nome? ')\n",
        "            dados.append(nome)\n",
        "            altura = float(input('Qual sua altura? '))\n",
        "            dados.append(altura)\n",
        "            genero = input('Qual seu gênero? ')\n",
        "            dados.append(genero)\n",
        "            peso = float(input('Qual seu peso? '))\n",
        "            dados.append(peso)\n",
        "            print(f'Feito, aqui estão os seus dados {dados}')\n",
        "            if len(dados)==4:\n",
        "                    break          \n",
        "    if resposta == 2:\n",
        "        print(dados)\n",
        "    if resposta == 3:\n",
        "        break"
      ]
    }
  ],
  "metadata": {
    "colab": {
      "provenance": []
    },
    "kernelspec": {
      "display_name": "Python 3",
      "name": "python3"
    },
    "language_info": {
      "name": "python"
    }
  },
  "nbformat": 4,
  "nbformat_minor": 0
}